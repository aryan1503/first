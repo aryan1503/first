{
 "cells": [
  {
   "cell_type": "code",
   "execution_count": 1,
   "metadata": {},
   "outputs": [
    {
     "name": "stdout",
     "output_type": "stream",
     "text": [
      "5 5 5 5 5 \n",
      "5 5 5 5 \n",
      "5 5 5 \n",
      "5 5 \n",
      "5 \n"
     ]
    }
   ],
   "source": [
    "for i in range(5,0,-1):\n",
    "    print('5 '*i )\n",
    "    "
   ]
  },
  {
   "cell_type": "code",
   "execution_count": 2,
   "metadata": {},
   "outputs": [
    {
     "name": "stdout",
     "output_type": "stream",
     "text": [
      "0 1 2 3 4 5 \n",
      "0 1 2 3 4 \n",
      "0 1 2 3 \n",
      "0 1 2 \n",
      "0 1 \n"
     ]
    }
   ],
   "source": [
    "for i in range(5,0,-1):\n",
    "    for j in range(i+1):\n",
    "        print(j, end=\" \")\n",
    "    print()"
   ]
  },
  {
   "cell_type": "code",
   "execution_count": 3,
   "metadata": {},
   "outputs": [
    {
     "name": "stdout",
     "output_type": "stream",
     "text": [
      "1 \n",
      "3 3 \n",
      "5 5 5 \n",
      "7 7 7 7 \n",
      "9 9 9 9 9 \n"
     ]
    }
   ],
   "source": [
    "for i in range(1,10,2):\n",
    "    for j in range(0,i,2):\n",
    "        print(str(i), end=\" \")\n",
    "    print()\n",
    "    "
   ]
  },
  {
   "cell_type": "code",
   "execution_count": 4,
   "metadata": {},
   "outputs": [
    {
     "name": "stdout",
     "output_type": "stream",
     "text": [
      "1 \n",
      "2 1 \n",
      "3 2 1 \n",
      "4 3 2 1 \n",
      "5 4 3 2 1 \n"
     ]
    }
   ],
   "source": [
    "for i in range(1,6):\n",
    "    for j in range(i,0,-1):\n",
    "        print(j, end=\" \")\n",
    "    print()"
   ]
  },
  {
   "cell_type": "code",
   "execution_count": 5,
   "metadata": {},
   "outputs": [
    {
     "name": "stdout",
     "output_type": "stream",
     "text": [
      "1\n",
      "3 2 \n",
      "6 5 4 \n",
      "10 9 8 7 \n"
     ]
    }
   ],
   "source": [
    "a=1\n",
    "b=0\n",
    "for i in range(1,5):\n",
    "    if i==1:\n",
    "        print(1, end=\"\")\n",
    "    else:\n",
    "        b=a+i\n",
    "        for j in range(b,a,-1):\n",
    "            print(j+1, end=\" \")\n",
    "    a=b\n",
    "    print()"
   ]
  },
  {
   "cell_type": "code",
   "execution_count": 6,
   "metadata": {},
   "outputs": [
    {
     "name": "stdout",
     "output_type": "stream",
     "text": [
      "Enter a Number ; 10\n",
      "1 2 3 4 5 6 7 8 9 \n",
      "2 2 3 4 5 6 7 8 9 \n",
      "3 3 3 4 5 6 7 8 9 \n",
      "4 4 4 4 5 6 7 8 9 \n",
      "5 5 5 5 5 6 7 8 9 \n",
      "6 6 6 6 6 6 7 8 9 \n",
      "7 7 7 7 7 7 7 8 9 \n",
      "8 8 8 8 8 8 8 8 9 \n",
      "9 9 9 9 9 9 9 9 9 \n"
     ]
    }
   ],
   "source": [
    "n=int(input(\"Enter a Number ; \"))\n",
    "for i in range(1,n):\n",
    "    print((str(i)+' ')*i,end=\"\")\n",
    "    for j in range(i+1,n):\n",
    "        print(j, end=\" \")\n",
    "    print()"
   ]
  },
  {
   "cell_type": "code",
   "execution_count": 7,
   "metadata": {},
   "outputs": [
    {
     "name": "stdout",
     "output_type": "stream",
     "text": [
      "Enter a Number ; 10\n",
      "1 \n",
      "2 4 \n",
      "3 6 9 \n",
      "4 8 12 16 \n",
      "5 10 15 20 25 \n",
      "6 12 18 24 30 36 \n",
      "7 14 21 28 35 42 49 \n",
      "8 16 24 32 40 48 56 64 \n",
      "9 18 27 36 45 54 63 72 81 \n"
     ]
    }
   ],
   "source": [
    "n=int(input(\"Enter a Number ; \"))\n",
    "for i in range(1,n):\n",
    "    for j in range(1,i+1):\n",
    "        print(j*i, end=\" \")\n",
    "    print()"
   ]
  },
  {
   "cell_type": "code",
   "execution_count": 8,
   "metadata": {},
   "outputs": [
    {
     "name": "stdout",
     "output_type": "stream",
     "text": [
      "Enter a Number : 10\n",
      "          * * * * * * * * * \n",
      "           * * * * * * * * \n",
      "            * * * * * * * \n",
      "             * * * * * * \n",
      "              * * * * * \n",
      "               * * * * \n",
      "                * * * \n",
      "                 * * \n",
      "                  * \n"
     ]
    }
   ],
   "source": [
    "n=int(input(\"Enter a Number : \"))\n",
    "for i in range(1,n):\n",
    "    for j in range(1,n+i):\n",
    "        print(' ', end=\"\")\n",
    "    print(\"* \"*(n-i),end=\"\")\n",
    "    print()  \n",
    "    "
   ]
  },
  {
   "cell_type": "code",
   "execution_count": 9,
   "metadata": {},
   "outputs": [
    {
     "name": "stdout",
     "output_type": "stream",
     "text": [
      "Enter a Number : 10\n",
      "          * \n",
      "         * * \n",
      "        * * * \n",
      "       * * * * \n",
      "      * * * * * \n",
      "     * * * * * * \n",
      "    * * * * * * * \n",
      "   * * * * * * * * \n",
      "  * * * * * * * * * \n"
     ]
    }
   ],
   "source": [
    "n=int(input(\"Enter a Number : \"))\n",
    "for i in range(1,n):\n",
    "    for j in range(n,i-1,-1):\n",
    "        print(' ', end=\"\")\n",
    "    print(\"* \"*j,end=\"\")\n",
    "    print()  "
   ]
  },
  {
   "cell_type": "code",
   "execution_count": 10,
   "metadata": {},
   "outputs": [
    {
     "name": "stdout",
     "output_type": "stream",
     "text": [
      "Enter a Number : 10\n",
      "* \n",
      "* * \n",
      "* * * \n",
      "* * * * \n",
      "* * * * * \n",
      "* * * * * * \n",
      "* * * * * * * \n",
      "* * * * * * * * \n",
      "* * * * * * * * * \n",
      "* * * * * * * * * * \n",
      "\n",
      "* * * * * * * * * * \n",
      "* * * * * * * * * \n",
      "* * * * * * * * \n",
      "* * * * * * * \n",
      "* * * * * * \n",
      "* * * * * \n",
      "* * * * \n",
      "* * * \n",
      "* * \n",
      "* \n",
      "\n"
     ]
    }
   ],
   "source": [
    "k=int(input(\"Enter a Number : \"))\n",
    "for i in range(1, k+1):\n",
    "    print(\"* \" * i)\n",
    "print()\n",
    "for j in range(k, 0, -1):\n",
    "    print(\"* \" * j)\n",
    "print()"
   ]
  },
  {
   "cell_type": "code",
   "execution_count": 11,
   "metadata": {},
   "outputs": [
    {
     "name": "stdout",
     "output_type": "stream",
     "text": [
      "Enter a Number : 10\n",
      "* \n",
      "* * \n",
      "* * * \n",
      "* * * * \n",
      "* * * * * \n",
      "* * * * * * \n",
      "* * * * * * * \n",
      "* * * * * * * * \n",
      "* * * * * * * * * \n",
      "* * * * * * * * * * \n",
      "* * * * * * * * * \n",
      "* * * * * * * * \n",
      "* * * * * * * \n",
      "* * * * * * \n",
      "* * * * * \n",
      "* * * * \n",
      "* * * \n",
      "* * \n",
      "* \n",
      "\n"
     ]
    }
   ],
   "source": [
    "k=int(input(\"Enter a Number : \"))\n",
    "for i in range(1, k+1):\n",
    "    print(\"* \" * i)\n",
    "for j in range(k-1, 0, -1):\n",
    "    print(\"* \" * j)\n",
    "print()\n",
    "    "
   ]
  },
  {
   "cell_type": "code",
   "execution_count": 12,
   "metadata": {},
   "outputs": [
    {
     "name": "stdout",
     "output_type": "stream",
     "text": [
      "Enter a Number : 10\n",
      "                  * \n",
      "                * * \n",
      "              * * * \n",
      "            * * * * \n",
      "          * * * * * \n",
      "        * * * * * * \n",
      "      * * * * * * * \n",
      "    * * * * * * * * \n",
      "  * * * * * * * * * \n",
      "* * * * * * * * * * \n",
      "  * * * * * * * * * \n",
      "    * * * * * * * * \n",
      "      * * * * * * * \n",
      "        * * * * * * \n",
      "          * * * * * \n",
      "            * * * * \n",
      "              * * * \n",
      "                * * \n",
      "                  * \n",
      "\n"
     ]
    }
   ],
   "source": [
    "k=int(input(\"Enter a Number : \"))\n",
    "for i in range(1, k+1):\n",
    "    for j in range(k,i, -1):\n",
    "        print(\" \",end=\" \")\n",
    "    print(\"* \" * i)\n",
    "for m in range(k-1, 0, -1):\n",
    "    for l in range(m,k):\n",
    "        print(\" \",end=\" \")\n",
    "    print(\"* \" * m)\n",
    "print()"
   ]
  },
  {
   "cell_type": "code",
   "execution_count": 13,
   "metadata": {},
   "outputs": [
    {
     "name": "stdout",
     "output_type": "stream",
     "text": [
      "Enter a Number : 10\n",
      "* * * * * * * * * * \n",
      " * * * * * * * * * \n",
      "  * * * * * * * * \n",
      "   * * * * * * * \n",
      "    * * * * * * \n",
      "     * * * * * \n",
      "      * * * * \n",
      "       * * * \n",
      "        * * \n",
      "         * \n",
      "         * \n",
      "        * * \n",
      "       * * * \n",
      "      * * * * \n",
      "     * * * * * \n",
      "    * * * * * * \n",
      "   * * * * * * * \n",
      "  * * * * * * * * \n",
      " * * * * * * * * * \n",
      "* * * * * * * * * * \n",
      "\n"
     ]
    }
   ],
   "source": [
    "k=int(input(\"Enter a Number : \"))\n",
    "for i in range(k,0,-1):\n",
    "    for j in range(i,k):\n",
    "        print(\" \",end=\"\")\n",
    "    print(\"* \" * i)\n",
    "for m in range(1, k+1):\n",
    "    for l in range(k+1,m+1, -1):\n",
    "        print(\" \",end=\"\")\n",
    "    print(\"* \" * m)\n",
    "print()"
   ]
  },
  {
   "cell_type": "code",
   "execution_count": 15,
   "metadata": {},
   "outputs": [
    {
     "name": "stdout",
     "output_type": "stream",
     "text": [
      "Enter a Number : 10\n",
      "********************\n",
      "*********__*********\n",
      "********____********\n",
      "*******______*******\n",
      "******________******\n",
      "*****__________*****\n",
      "****____________****\n",
      "***______________***\n",
      "**________________**\n",
      "*__________________*\n"
     ]
    }
   ],
   "source": [
    "k=int(input(\"Enter a Number : \"))\n",
    "for j in range(k,0,-1):\n",
    "    print(\"*\" * j,end=\"\")\n",
    "    for l in range(j,k):\n",
    "        print(\"__\",end=\"\")\n",
    "    print(\"*\" * j,end=\"\")\n",
    "    print()"
   ]
  },
  {
   "cell_type": "code",
   "execution_count": null,
   "metadata": {},
   "outputs": [],
   "source": []
  }
 ],
 "metadata": {
  "kernelspec": {
   "display_name": "Python 3",
   "language": "python",
   "name": "python3"
  },
  "language_info": {
   "codemirror_mode": {
    "name": "ipython",
    "version": 3
   },
   "file_extension": ".py",
   "mimetype": "text/x-python",
   "name": "python",
   "nbconvert_exporter": "python",
   "pygments_lexer": "ipython3",
   "version": "3.8.5"
  }
 },
 "nbformat": 4,
 "nbformat_minor": 5
}
